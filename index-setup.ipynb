{
 "cells": [
  {
   "cell_type": "code",
   "execution_count": 1,
   "metadata": {},
   "outputs": [],
   "source": [
    "'''\n",
    "This file is for the index setup by Whoosh.\n",
    "It takes the wiki-pages-text.zip as the input file\n",
    "'''\n",
    "\n",
    "import os,zipfile,time\n",
    "from whoosh.index import create_in\n",
    "from whoosh.fields import Schema, TEXT, ID\n",
    "import sys\n",
    "\n",
    "def createSearchableData(zippath):   \n",
    "\n",
    "    schema = Schema(title=TEXT(stored=True),content=TEXT(stored=True),title_remove_underline=TEXT(stored=True))\n",
    "    if not os.path.exists(\"indexdir\"):\n",
    "        os.mkdir(\"indexdir\")\n",
    " \n",
    "    # Creating a index writer to add document as per schema\n",
    "    ix = create_in(\"indexdir\",schema)\n",
    "    writer = ix.writer()\n",
    "    \n",
    "    wiki = zipfile.ZipFile(zippath,'r')\n",
    "    \n",
    "    for wikipage in wiki.namelist():\n",
    "        if wikipage != 'wiki-pages-text/':\n",
    "            with wiki.open(wikipage,'r') as page:\n",
    "\n",
    "                firstline = page.readline().decode('utf-8')\n",
    "                wordlist = firstline.split()\n",
    "                current_title = wordlist[0]\n",
    "                current_content = firstline\n",
    "\n",
    "                for line in page:\n",
    "                    sentence = line.decode('utf-8')\n",
    "                    wordlist = sentence.split()\n",
    "                    wikititle = wordlist[0]\n",
    "                    number = wordlist[1]\n",
    "                    if not str.isdigit(number):\n",
    "                        continue\n",
    "                    if wikititle == current_title:\n",
    "                        current_content += sentence\n",
    "                    else:\n",
    "                        current_title_by_word = current_title.replace(\"_\", \" \")\n",
    "                        writer.add_document(title=current_title, content=current_content, title_remove_underline=current_title_by_word)\n",
    "                        current_title = wikititle\n",
    "                        current_content = sentence\n",
    "                \n",
    "    writer.commit()\n",
    "    wiki.close()\n",
    "    "
   ]
  },
  {
   "cell_type": "code",
   "execution_count": null,
   "metadata": {},
   "outputs": [],
   "source": [
    "time_start=time.time()\n",
    "createSearchableData('wiki-pages-text.zip')\n",
    "time_end=time.time()\n",
    "print('time cost',time_end-time_start,'s')"
   ]
  }
 ],
 "metadata": {
  "kernelspec": {
   "display_name": "Python 3",
   "language": "python",
   "name": "python3"
  },
  "language_info": {
   "codemirror_mode": {
    "name": "ipython",
    "version": 3
   },
   "file_extension": ".py",
   "mimetype": "text/x-python",
   "name": "python",
   "nbconvert_exporter": "python",
   "pygments_lexer": "ipython3",
   "version": "3.6.8"
  },
  "varInspector": {
   "cols": {
    "lenName": 16,
    "lenType": 16,
    "lenVar": 40
   },
   "kernels_config": {
    "python": {
     "delete_cmd_postfix": "",
     "delete_cmd_prefix": "del ",
     "library": "var_list.py",
     "varRefreshCmd": "print(var_dic_list())"
    },
    "r": {
     "delete_cmd_postfix": ") ",
     "delete_cmd_prefix": "rm(",
     "library": "var_list.r",
     "varRefreshCmd": "cat(var_dic_list()) "
    }
   },
   "types_to_exclude": [
    "module",
    "function",
    "builtin_function_or_method",
    "instance",
    "_Feature"
   ],
   "window_display": false
  }
 },
 "nbformat": 4,
 "nbformat_minor": 2
}
